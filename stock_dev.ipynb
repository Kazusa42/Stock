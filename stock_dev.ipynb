{
 "cells": [
  {
   "cell_type": "code",
   "execution_count": 1,
   "metadata": {},
   "outputs": [],
   "source": [
    "import requests\n",
    "import json\n",
    "import warnings\n",
    "import asyncio\n",
    "import aiohttp\n",
    "\n",
    "import pandas as pd\n",
    "import numpy as np\n",
    "\n",
    "from pathlib import Path\n",
    "from datetime import date\n",
    "from tqdm import tqdm\n",
    "\n",
    "warnings.simplefilter(action=r'ignore', category=FutureWarning)"
   ]
  },
  {
   "cell_type": "code",
   "execution_count": 2,
   "metadata": {},
   "outputs": [],
   "source": [
    "class interval:\n",
    "    def __init__(self, lower, upper) -> None:\n",
    "        self.__lower = lower\n",
    "        self.__upper = upper\n",
    "\n",
    "    def get_lower(self):\n",
    "        return self.__lower\n",
    "    \n",
    "    def get_upper(self):\n",
    "        return self.__upper\n",
    "\n",
    "INFO_DICT = {\n",
    "        r'stockCode': 2,\n",
    "        r'closePrice': 3,\n",
    "        r'prevClosePrice': 4,\n",
    "        r'openPrice': 5,\n",
    "        r'highest': 33,\n",
    "        r'lowest': 34,\n",
    "        r'turnOverRate': 38,\n",
    "        r'ampRate': 43,\n",
    "        r'tmCap': 44,\n",
    "    }\n",
    "\n",
    "    # thresholds used to filter data\n",
    "THRE_DICT = {\n",
    "        r'ampRate': interval(3, 6),        # ampRate: +3~+6%\n",
    "        r'turnOverRate': interval(5, 10),  # turnOverRate: +5%~+10%\n",
    "        r'tmCap': interval(50, 120),       # tradableMarketCap: 50~120\n",
    "    }"
   ]
  },
  {
   "cell_type": "code",
   "execution_count": 7,
   "metadata": {},
   "outputs": [],
   "source": [
    "# DEVELOPMENT CODE\n",
    "\n",
    "class StockInfoSeaker:\n",
    "    def __init__(self, infoDict, threDict, stockList: list) -> None:\n",
    "        self.__infoDict = infoDict\n",
    "        self.__therDict = threDict\n",
    "        self.__stockList = stockList\n",
    "        self.__data = []\n",
    "\n",
    "        self.df = pd.DataFrame()\n",
    "\n",
    "    async def fetch_stock_data(self, session, stockCode):\n",
    "        url = f'http://ifzq.gtimg.cn/appstock/app/kline/mkline?param={stockCode},m1,,10'\n",
    "        async with session.get(url, allow_redirects=False) as response:\n",
    "            if 300 <= response.status < 400:\n",
    "                print(f'Warning: Request for stock {stockCode} was redirected.')\n",
    "                return None\n",
    "\n",
    "            elif response.status == 403:\n",
    "                print(f\"Warning: Request for stock {stockCode} was blocked by a firewall.\")\n",
    "                return None\n",
    "            \n",
    "            elif response.status == 200:\n",
    "                info = await response.text()\n",
    "\n",
    "                if 'window.location.href=\"https://waf.tencent.com/501page.html' in info:\n",
    "                    print(f\"Warning: Request for stock {stockCode} was blocked by a firewall.\")\n",
    "                    return None\n",
    "\n",
    "                infoDict = json.loads(info)\n",
    "\n",
    "                rawData = infoDict['data'][stockCode]['qt'][stockCode]\n",
    "                selectedData = [rawData[i] for i in list(self.__infoDict.values())]\n",
    "                selectedData[0] = stockCode\n",
    "                selectedData[1:] = list(map(float, selectedData[1:]))\n",
    "\n",
    "                return selectedData\n",
    "            return None\n",
    "\n",
    "    async def seak_data(self):\n",
    "        async with aiohttp.ClientSession() as session:\n",
    "            tasks = []\n",
    "            for stockCode in self.__stockList:\n",
    "                tasks.append(self.fetch_stock_data(session, stockCode))\n",
    "            results = await asyncio.gather(*tasks)\n",
    "            \n",
    "            self.__data = [res for res in results if res is not None]\n",
    "\n",
    "    def filter_data(self):\n",
    "        self.df = pd.DataFrame(self.__data, columns=list(self.__infoDict.keys()))\n",
    "        for k, v in self.__therDict.items():\n",
    "            expr = str(v.get_lower()) + r' <= ' + str(k) + r' <= ' + str(v.get_upper())\n",
    "            self.df.query(expr=expr, inplace=True)\n",
    "\n",
    "    def save_data(self, savedir):\n",
    "        self.df.to_csv(savedir, index=False)\n",
    "\n",
    "\n",
    "async def main():\n",
    "    df = pd.read_csv(r'./stock_code.csv', header=None)\n",
    "    stockCodeList = df[df.columns[0]].values.tolist()\n",
    "\n",
    "    seaker = StockInfoSeaker(infoDict=INFO_DICT,\n",
    "                             threDict=THRE_DICT,\n",
    "                             stockList=stockCodeList)\n",
    "    \n",
    "    await seaker.seak_data()\n",
    "    seaker.filter_data()\n",
    "\n",
    "    seaker.save_data(r'./interest_code.csv')\n",
    "\n",
    "# 运行异步主函数\n",
    "await main()\n"
   ]
  },
  {
   "cell_type": "code",
   "execution_count": 32,
   "metadata": {},
   "outputs": [
    {
     "name": "stdout",
     "output_type": "stream",
     "text": [
      "{\"code\":0,\"msg\":\"\",\"data\":{\"sz000001\":{\"qt\":{\"sz000001\":[\"51\",\"\\u5e73\\u5b89\\u94f6\\u884c\",\"000001\",\"10.08\",\"10.07\",\"10.06\",\"878865\",\"467875\",\"410990\",\"10.07\",\"6594\",\"10.06\",\"11345\",\"10.05\",\"9290\",\"10.04\",\"2383\",\"10.03\",\"5143\",\"10.08\",\"875\",\"10.09\",\"1504\",\"10.10\",\"1696\",\"10.11\",\"1254\",\"10.12\",\"795\",\"\",\"20240906161406\",\"0.01\",\"0.10\",\"10.21\",\"10.05\",\"10.08\\/878865\\/891507834\",\"878865\",\"89151\",\"0.45\",\"4.17\",\"\",\"10.21\",\"10.05\",\"1.59\",\"1956.09\",\"1956.12\",\"0.47\",\"11.08\",\"9.06\",\"0.95\",\"28631\",\"10.14\",\"3.78\",\"4.21\",\"\",\"\",\"0.90\",\"89150.7834\",\"0.0000\",\"0\",\" \",\"GP-A\",\"16.25\",\"-0.79\",\"7.13\",\"9.74\",\"0.82\",\"11.02\",\"8.24\",\"-3.72\",\"0.40\",\"-0.98\",\"19405617528\",\"19405918198\",\"70.04\",\"15.85\",\"19405617528\",\"\",\"\",\"-5.00\",\"0.10\",\"\",\"CNY\",\"0\",\"\",\"10.00\",\"15554\"],\"market\":[\"2024-09-08 08:46:25|HK_close_\\u5df2\\u4f11\\u5e02|SH_close_\\u5df2\\u4f11\\u5e02|SZ_close_\\u5df2\\u4f11\\u5e02|US_close_\\u5df2\\u4f11\\u5e02|SQ_close_\\u5df2\\u4f11\\u5e02|DS_close_\\u5df2\\u4f11\\u5e02|ZS_close_\\u5df2\\u4f11\\u5e02|NEWSH_close_\\u5df2\\u4f11\\u5e02|NEWSZ_close_\\u5df2\\u4f11\\u5e02|NEWHK_close_\\u5df2\\u4f11\\u5e02|NEWUS_close_\\u5df2\\u4f11\\u5e02|REPO_close_\\u5df2\\u4f11\\u5e02|UK_close_\\u5df2\\u4f11\\u5e02|KCB_close_\\u5df2\\u4f11\\u5e02|IT_close_\\u5df2\\u4f11\\u5e02|MY_close_\\u5df2\\u4f11\\u5e02|EU_close_\\u5df2\\u4f11\\u5e02|AH_close_\\u5df2\\u4f11\\u5e02|DE_close_\\u5df2\\u4f11\\u5e02|JW_close_\\u5df2\\u4f11\\u5e02|CYB_close_\\u5df2\\u4f11\\u5e02|USA_close_\\u5df2\\u4f11\\u5e02|USB_close_\\u5df2\\u4f11\\u5e02|ZQ_close_\\u5df2\\u4f11\\u5e02\"],\"zjlx\":[\"sz000001\",\"0.00\",\"0.00\",\"0.00\",\"0\",\"0.00\",\"0.00\",\"0.00\",\"0\",\"0.00\",\"0.00\",\"0.00\",\"\\u5e73\\u5b89\\u94f6\\u884c\",\"20200701\",\"20200701^0.00^0.00\",\"20200630^0.00^0.00\",\"20200629^0.00^0.00\",\"20200624^0.00^0.00\",\"0.00\",\"0.00\",\"20200701085013\"]},\"m1\":[[\"202409061451\",\"10.06\",\"10.07\",\"10.07\",\"10.06\",\"1613.00\",{},\"0.08\"],[\"202409061452\",\"10.06\",\"10.07\",\"10.08\",\"10.06\",\"3576.00\",{},\"0.18\"],[\"202409061453\",\"10.07\",\"10.07\",\"10.07\",\"10.06\",\"2476.00\",{},\"0.13\"],[\"202409061454\",\"10.07\",\"10.07\",\"10.08\",\"10.06\",\"4365.00\",{},\"0.22\"],[\"202409061455\",\"10.07\",\"10.06\",\"10.07\",\"10.06\",\"2064.00\",{},\"0.11\"],[\"202409061456\",\"10.07\",\"10.07\",\"10.08\",\"10.07\",\"2012.00\",{},\"0.10\"],[\"202409061457\",\"10.07\",\"10.07\",\"10.08\",\"10.07\",\"2574.00\",{},\"0.13\"],[\"202409061458\",\"10.08\",\"10.08\",\"10.08\",\"10.08\",\"7.00\",{},\"0.00\"],[\"202409061459\",\"10.08\",\"10.08\",\"10.08\",\"10.08\",\"0.00\",{},\"0.00\"],[\"202409061500\",\"10.08\",\"10.08\",\"10.08\",\"10.08\",\"4220.00\",{},\"0.22\"]],\"prec\":\"10.07\"}}}\n",
      "<class 'str'>\n"
     ]
    }
   ],
   "source": [
    "print(combined_results[0])\n",
    "print(type(combined_results[0]))"
   ]
  },
  {
   "cell_type": "code",
   "execution_count": 34,
   "metadata": {},
   "outputs": [],
   "source": [
    "dictinfo = json.loads(combined_results[0])"
   ]
  },
  {
   "cell_type": "code",
   "execution_count": 38,
   "metadata": {},
   "outputs": [
    {
     "name": "stdout",
     "output_type": "stream",
     "text": [
      "stockCode: 000001\n",
      "closePrice: 10.08\n",
      "prevClosePrice: 10.07\n",
      "openPrice: 10.06\n",
      "highest: 10.21\n",
      "lowest: 10.05\n",
      "turnOverRate: 0.45\n",
      "ampRate: 1.59\n",
      "tmCap: 1956.09\n"
     ]
    }
   ],
   "source": [
    "# TEST UNIT\n",
    "INFO_DICT = {\n",
    "        r'stockCode': 2,\n",
    "        r'closePrice': 3,\n",
    "        r'prevClosePrice': 4,\n",
    "        r'openPrice': 5,\n",
    "        r'highest': 33,\n",
    "        r'lowest': 34,\n",
    "        r'turnOverRate': 38,\n",
    "        r'ampRate': 43,\n",
    "        r'tmCap': 44,\n",
    "    }\n",
    "\n",
    "stockCode = r'sz000001'  # test stock code\n",
    "resp = dictinfo\n",
    "\n",
    "# print(resp['data'])\n",
    "for k, v in INFO_DICT.items():\n",
    "    print(k, end=': ')\n",
    "    print(resp['data'][stockCode]['qt'][stockCode][v])"
   ]
  },
  {
   "cell_type": "code",
   "execution_count": 40,
   "metadata": {},
   "outputs": [
    {
     "name": "stdout",
     "output_type": "stream",
     "text": [
      "stockCode: 000001\n",
      "closePrice: 10.08\n",
      "prevClosePrice: 10.07\n",
      "openPrice: 10.06\n",
      "highest: 10.21\n",
      "lowest: 10.05\n",
      "turnOverRate: 0.45\n",
      "ampRate: 1.59\n",
      "tmCap: 1956.09\n"
     ]
    }
   ],
   "source": [
    "stockCode = r'sz000001'  # test stock code\n",
    "url = f'http://ifzq.gtimg.cn/appstock/app/kline/mkline?param={stockCode},m1,,10'\n",
    "resp = json.loads(requests.get(url).content)\n",
    "\n",
    "# print(resp['data'][stockCode]['qt'][stockCode])\n",
    "for k, v in INFO_DICT.items():\n",
    "    print(k, end=': ')\n",
    "    print(resp['data'][stockCode]['qt'][stockCode][v])"
   ]
  }
 ],
 "metadata": {
  "kernelspec": {
   "display_name": "base",
   "language": "python",
   "name": "python3"
  },
  "language_info": {
   "codemirror_mode": {
    "name": "ipython",
    "version": 3
   },
   "file_extension": ".py",
   "mimetype": "text/x-python",
   "name": "python",
   "nbconvert_exporter": "python",
   "pygments_lexer": "ipython3",
   "version": "3.11.5"
  }
 },
 "nbformat": 4,
 "nbformat_minor": 2
}
