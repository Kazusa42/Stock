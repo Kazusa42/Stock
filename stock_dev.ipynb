{
 "cells": [
  {
   "cell_type": "code",
   "execution_count": 1,
   "metadata": {},
   "outputs": [],
   "source": [
    "import requests\n",
    "import json\n",
    "import warnings\n",
    "import asyncio\n",
    "import aiohttp\n",
    "\n",
    "import pandas as pd\n",
    "import numpy as np\n",
    "\n",
    "from pathlib import Path\n",
    "from datetime import date\n",
    "from tqdm import tqdm\n",
    "\n",
    "warnings.simplefilter(action=r'ignore', category=FutureWarning)"
   ]
  },
  {
   "cell_type": "code",
   "execution_count": 2,
   "metadata": {},
   "outputs": [],
   "source": [
    "class interval:\n",
    "    def __init__(self, lower, upper) -> None:\n",
    "        self.__lower = lower\n",
    "        self.__upper = upper\n",
    "\n",
    "    def get_lower(self):\n",
    "        return self.__lower\n",
    "    \n",
    "    def get_upper(self):\n",
    "        return self.__upper\n",
    "\n",
    "INFO_DICT = {\n",
    "        r'stockCode': 2,\n",
    "        r'closePrice': 3,\n",
    "        r'prevClosePrice': 4,\n",
    "        r'openPrice': 5,\n",
    "        r'highest': 33,\n",
    "        r'lowest': 34,\n",
    "        r'turnOverRate': 38,\n",
    "        r'ampRate': 43,\n",
    "        r'tmCap': 44,\n",
    "    }\n",
    "\n",
    "    # thresholds used to filter data\n",
    "THRE_DICT = {\n",
    "        r'ampRate': interval(3, 6),        # ampRate: +3~+6%\n",
    "        r'turnOverRate': interval(5, 10),  # turnOverRate: +5%~+10%\n",
    "        r'tmCap': interval(50, 120),       # tradableMarketCap: 50~120\n",
    "    }"
   ]
  },
  {
   "cell_type": "code",
   "execution_count": 10,
   "metadata": {},
   "outputs": [
    {
     "name": "stdout",
     "output_type": "stream",
     "text": [
      "['51', '深圳华强', '000062', '38.75', '41.55', '43.77', '427759', '205398', '221750', '38.75', '132', '38.71', '3', '38.70', '1', '38.69', '5', '38.67', '19', '38.79', '17', '38.80', '222', '38.81', '172', '38.82', '58', '38.83', '161', '', '20240909093918', '-2.80', '-6.74', '43.80', '37.40', '38.75/427759/1720492869', '427759', '172049', '4.10', '107.46', '', '43.80', '37.40', '15.40', '404.71', '405.29', '5.67', '45.71', '37.40', '9.27', '-470', '40.22', '114.78', '86.72', '', '', '1.69', '172049.2869', '0.0000', '0', ' ', 'GP-A', '250.05', '36.54', '0.65', '5.28', '2.75', '43.80', '7.58', '107.55', '353.22', '321.20', '1044420366', '1045909322', '-59.49', '242.62', '1044420366', '', '', '237.25', '-0.39', '', 'CNY', '0', '', '38.85', '-2960']\n"
     ]
    }
   ],
   "source": [
    "stockCode = r'sz000062'  # test stock code\n",
    "url = f'http://ifzq.gtimg.cn/appstock/app/kline/mkline?param={stockCode},m1,,10'\n",
    "resp = json.loads(requests.get(url).content)\n",
    "\n",
    "print(resp['data'][stockCode]['qt'][stockCode])\n"
   ]
  },
  {
   "cell_type": "code",
   "execution_count": 9,
   "metadata": {},
   "outputs": [
    {
     "name": "stdout",
     "output_type": "stream",
     "text": [
      "23\n"
     ]
    }
   ],
   "source": [
    "currPriceIdx = resp['data'][stockCode]['qt'][stockCode].index(str(38.88))\n",
    "print(currPriceIdx)"
   ]
  },
  {
   "cell_type": "code",
   "execution_count": 11,
   "metadata": {},
   "outputs": [
    {
     "name": "stdout",
     "output_type": "stream",
     "text": [
      "stockCode: 000062\n",
      "closePrice: 38.75\n",
      "prevClosePrice: 41.55\n",
      "openPrice: 43.77\n",
      "highest: 43.80\n",
      "lowest: 37.40\n",
      "turnOverRate: 4.10\n",
      "ampRate: 15.40\n",
      "tmCap: 404.71\n"
     ]
    }
   ],
   "source": [
    "for k, v in INFO_DICT.items():\n",
    "    print(k, end=': ')\n",
    "    print(resp['data'][stockCode]['qt'][stockCode][v])"
   ]
  }
 ],
 "metadata": {
  "kernelspec": {
   "display_name": "base",
   "language": "python",
   "name": "python3"
  },
  "language_info": {
   "codemirror_mode": {
    "name": "ipython",
    "version": 3
   },
   "file_extension": ".py",
   "mimetype": "text/x-python",
   "name": "python",
   "nbconvert_exporter": "python",
   "pygments_lexer": "ipython3",
   "version": "3.12.4"
  }
 },
 "nbformat": 4,
 "nbformat_minor": 2
}
